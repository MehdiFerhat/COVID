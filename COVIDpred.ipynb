{
 "cells": [
  {
   "cell_type": "code",
   "execution_count": 438,
   "metadata": {
    "collapsed": true,
    "ExecuteTime": {
     "end_time": "2023-08-20T18:48:45.148687500Z",
     "start_time": "2023-08-20T18:48:45.137713700Z"
    }
   },
   "outputs": [],
   "source": [
    "import numpy as np\n",
    "import pandas as pd"
   ]
  },
  {
   "cell_type": "code",
   "execution_count": 439,
   "outputs": [],
   "source": [
    "from sklearn.pipeline import Pipeline\n",
    "from tqdm import tqdm\n",
    "from sklearn.impute import SimpleImputer\n",
    "from sklearn.compose import ColumnTransformer\n",
    "from sklearn.preprocessing import FunctionTransformer\n",
    "from sklearn.model_selection import train_test_split, GridSearchCV\n",
    "from sklearn.preprocessing import OneHotEncoder, StandardScaler, LabelEncoder\n",
    "\n",
    "from sklearn.linear_model import  LogisticRegression\n",
    "from sklearn.ensemble import RandomForestClassifier\n",
    "from sklearn.neighbors import KNeighborsClassifier\n",
    "from sklearn.svm import SVC\n",
    "\n",
    "from sklearn.metrics import accuracy_score"
   ],
   "metadata": {
    "collapsed": false,
    "ExecuteTime": {
     "end_time": "2023-08-20T18:48:45.339174500Z",
     "start_time": "2023-08-20T18:48:45.333191500Z"
    }
   }
  },
  {
   "cell_type": "code",
   "execution_count": 440,
   "outputs": [],
   "source": [
    "df = pd.read_csv('https://raw.githubusercontent.com/MachineLearnia/Python-Machine-Learning/master/Dataset/dataset.csv',encoding='ISO-8859-1')"
   ],
   "metadata": {
    "collapsed": false,
    "ExecuteTime": {
     "end_time": "2023-08-20T18:48:46.248750900Z",
     "start_time": "2023-08-20T18:48:45.516704700Z"
    }
   }
  },
  {
   "cell_type": "code",
   "execution_count": 441,
   "outputs": [
    {
     "data": {
      "text/plain": "        Patient ID  Patient age quantile SARS-Cov-2 exam result  \\\n0  44477f75e8169d2                    13               negative   \n1  126e9dd13932f68                    17               negative   \n2  a46b4402a0e5696                     8               negative   \n3  f7d619a94f97c45                     5               negative   \n4  d9e41465789c2b5                    15               negative   \n\n   Patient addmited to regular ward (1=yes, 0=no)  \\\n0                                               0   \n1                                               0   \n2                                               0   \n3                                               0   \n4                                               0   \n\n   Patient addmited to semi-intensive unit (1=yes, 0=no)  \\\n0                                                  0       \n1                                                  0       \n2                                                  0       \n3                                                  0       \n4                                                  0       \n\n   Patient addmited to intensive care unit (1=yes, 0=no)  Hematocrit  \\\n0                                                  0             NaN   \n1                                                  0        0.236515   \n2                                                  0             NaN   \n3                                                  0             NaN   \n4                                                  0             NaN   \n\n   Hemoglobin  Platelets  Mean platelet volume   ...  \\\n0         NaN        NaN                    NaN  ...   \n1    -0.02234  -0.517413               0.010677  ...   \n2         NaN        NaN                    NaN  ...   \n3         NaN        NaN                    NaN  ...   \n4         NaN        NaN                    NaN  ...   \n\n   Hb saturation (arterial blood gases)  pCO2 (arterial blood gas analysis)  \\\n0                                   NaN                                 NaN   \n1                                   NaN                                 NaN   \n2                                   NaN                                 NaN   \n3                                   NaN                                 NaN   \n4                                   NaN                                 NaN   \n\n   Base excess (arterial blood gas analysis)  \\\n0                                        NaN   \n1                                        NaN   \n2                                        NaN   \n3                                        NaN   \n4                                        NaN   \n\n   pH (arterial blood gas analysis)  Total CO2 (arterial blood gas analysis)  \\\n0                               NaN                                      NaN   \n1                               NaN                                      NaN   \n2                               NaN                                      NaN   \n3                               NaN                                      NaN   \n4                               NaN                                      NaN   \n\n   HCO3 (arterial blood gas analysis)  pO2 (arterial blood gas analysis)  \\\n0                                 NaN                                NaN   \n1                                 NaN                                NaN   \n2                                 NaN                                NaN   \n3                                 NaN                                NaN   \n4                                 NaN                                NaN   \n\n   Arteiral Fio2  Phosphor  ctO2 (arterial blood gas analysis)  \n0            NaN       NaN                                 NaN  \n1            NaN       NaN                                 NaN  \n2            NaN       NaN                                 NaN  \n3            NaN       NaN                                 NaN  \n4            NaN       NaN                                 NaN  \n\n[5 rows x 111 columns]",
      "text/html": "<div>\n<style scoped>\n    .dataframe tbody tr th:only-of-type {\n        vertical-align: middle;\n    }\n\n    .dataframe tbody tr th {\n        vertical-align: top;\n    }\n\n    .dataframe thead th {\n        text-align: right;\n    }\n</style>\n<table border=\"1\" class=\"dataframe\">\n  <thead>\n    <tr style=\"text-align: right;\">\n      <th></th>\n      <th>Patient ID</th>\n      <th>Patient age quantile</th>\n      <th>SARS-Cov-2 exam result</th>\n      <th>Patient addmited to regular ward (1=yes, 0=no)</th>\n      <th>Patient addmited to semi-intensive unit (1=yes, 0=no)</th>\n      <th>Patient addmited to intensive care unit (1=yes, 0=no)</th>\n      <th>Hematocrit</th>\n      <th>Hemoglobin</th>\n      <th>Platelets</th>\n      <th>Mean platelet volume</th>\n      <th>...</th>\n      <th>Hb saturation (arterial blood gases)</th>\n      <th>pCO2 (arterial blood gas analysis)</th>\n      <th>Base excess (arterial blood gas analysis)</th>\n      <th>pH (arterial blood gas analysis)</th>\n      <th>Total CO2 (arterial blood gas analysis)</th>\n      <th>HCO3 (arterial blood gas analysis)</th>\n      <th>pO2 (arterial blood gas analysis)</th>\n      <th>Arteiral Fio2</th>\n      <th>Phosphor</th>\n      <th>ctO2 (arterial blood gas analysis)</th>\n    </tr>\n  </thead>\n  <tbody>\n    <tr>\n      <th>0</th>\n      <td>44477f75e8169d2</td>\n      <td>13</td>\n      <td>negative</td>\n      <td>0</td>\n      <td>0</td>\n      <td>0</td>\n      <td>NaN</td>\n      <td>NaN</td>\n      <td>NaN</td>\n      <td>NaN</td>\n      <td>...</td>\n      <td>NaN</td>\n      <td>NaN</td>\n      <td>NaN</td>\n      <td>NaN</td>\n      <td>NaN</td>\n      <td>NaN</td>\n      <td>NaN</td>\n      <td>NaN</td>\n      <td>NaN</td>\n      <td>NaN</td>\n    </tr>\n    <tr>\n      <th>1</th>\n      <td>126e9dd13932f68</td>\n      <td>17</td>\n      <td>negative</td>\n      <td>0</td>\n      <td>0</td>\n      <td>0</td>\n      <td>0.236515</td>\n      <td>-0.02234</td>\n      <td>-0.517413</td>\n      <td>0.010677</td>\n      <td>...</td>\n      <td>NaN</td>\n      <td>NaN</td>\n      <td>NaN</td>\n      <td>NaN</td>\n      <td>NaN</td>\n      <td>NaN</td>\n      <td>NaN</td>\n      <td>NaN</td>\n      <td>NaN</td>\n      <td>NaN</td>\n    </tr>\n    <tr>\n      <th>2</th>\n      <td>a46b4402a0e5696</td>\n      <td>8</td>\n      <td>negative</td>\n      <td>0</td>\n      <td>0</td>\n      <td>0</td>\n      <td>NaN</td>\n      <td>NaN</td>\n      <td>NaN</td>\n      <td>NaN</td>\n      <td>...</td>\n      <td>NaN</td>\n      <td>NaN</td>\n      <td>NaN</td>\n      <td>NaN</td>\n      <td>NaN</td>\n      <td>NaN</td>\n      <td>NaN</td>\n      <td>NaN</td>\n      <td>NaN</td>\n      <td>NaN</td>\n    </tr>\n    <tr>\n      <th>3</th>\n      <td>f7d619a94f97c45</td>\n      <td>5</td>\n      <td>negative</td>\n      <td>0</td>\n      <td>0</td>\n      <td>0</td>\n      <td>NaN</td>\n      <td>NaN</td>\n      <td>NaN</td>\n      <td>NaN</td>\n      <td>...</td>\n      <td>NaN</td>\n      <td>NaN</td>\n      <td>NaN</td>\n      <td>NaN</td>\n      <td>NaN</td>\n      <td>NaN</td>\n      <td>NaN</td>\n      <td>NaN</td>\n      <td>NaN</td>\n      <td>NaN</td>\n    </tr>\n    <tr>\n      <th>4</th>\n      <td>d9e41465789c2b5</td>\n      <td>15</td>\n      <td>negative</td>\n      <td>0</td>\n      <td>0</td>\n      <td>0</td>\n      <td>NaN</td>\n      <td>NaN</td>\n      <td>NaN</td>\n      <td>NaN</td>\n      <td>...</td>\n      <td>NaN</td>\n      <td>NaN</td>\n      <td>NaN</td>\n      <td>NaN</td>\n      <td>NaN</td>\n      <td>NaN</td>\n      <td>NaN</td>\n      <td>NaN</td>\n      <td>NaN</td>\n      <td>NaN</td>\n    </tr>\n  </tbody>\n</table>\n<p>5 rows × 111 columns</p>\n</div>"
     },
     "execution_count": 441,
     "metadata": {},
     "output_type": "execute_result"
    }
   ],
   "source": [
    "df.head()[:100]"
   ],
   "metadata": {
    "collapsed": false,
    "ExecuteTime": {
     "end_time": "2023-08-20T18:48:46.263701600Z",
     "start_time": "2023-08-20T18:48:46.249739100Z"
    }
   }
  },
  {
   "cell_type": "code",
   "execution_count": 442,
   "outputs": [],
   "source": [
    "variables_infos = {}\n",
    "for column in df.columns:\n",
    "    variables_infos[str(df[column].dtype)] = []"
   ],
   "metadata": {
    "collapsed": false,
    "ExecuteTime": {
     "end_time": "2023-08-20T18:48:46.284645400Z",
     "start_time": "2023-08-20T18:48:46.263701600Z"
    }
   }
  },
  {
   "cell_type": "code",
   "execution_count": 443,
   "outputs": [
    {
     "name": "stdout",
     "output_type": "stream",
     "text": [
      "La colonne Mycoplasma pneumoniae a été supprimée.\n",
      "\n",
      "La colonne Parainfluenza 2 a été supprimée.\n",
      "\n",
      "La colonne Fio2 (venous blood gas analysis) a été supprimée.\n",
      "\n",
      "La colonne Myeloblasts a été supprimée.\n",
      "\n",
      "La colonne Urine - Nitrite a été supprimée.\n",
      "\n",
      "La colonne Urine - Sugar a été supprimée.\n",
      "\n",
      "La colonne Urine - Hyaline cylinders a été supprimée.\n",
      "\n",
      "La colonne Urine - Granular cylinders a été supprimée.\n",
      "\n",
      "La colonne Urine - Yeasts a été supprimée.\n",
      "\n",
      "La colonne Partial thromboplastin time (PTT)  a été supprimée.\n",
      "\n",
      "La colonne Prothrombin time (PT), Activity a été supprimée.\n",
      "\n",
      "La colonne D-Dimer a été supprimée.\n",
      "\n",
      "object\n",
      ":\n",
      "La colonne Patient ID possède 5644 modalités :['44477f75e8169d2' '126e9dd13932f68' 'a46b4402a0e5696' 'f7d619a94f97c45'\n",
      " 'd9e41465789c2b5' '75f16746216c4d1' '2a2245e360808d7' '509197ec73f1400'\n",
      " '8bb9d64f0215244' '5f1ed301375586c' 'd720464cc322b6f' '02c84e61d5f9e18'\n",
      " 'b68a6f32fd88a49' '0fbafd910aa8078' 'f9056545d1296ec' '6c9d3323975b082'\n",
      " 'b62e45a8a3f683e' '99da3c055438133' 'd3ea751f3db9de9' '315cc65959223e0']\n",
      "\n",
      "La colonne SARS-Cov-2 exam result possède 2 modalités :['negative' 'positive']\n",
      "\n",
      "La colonne Respiratory Syncytial Virus possède 2 modalités :[nan 'not_detected' 'detected']\n",
      "\n",
      "La colonne Influenza A possède 2 modalités :[nan 'not_detected' 'detected']\n",
      "\n",
      "La colonne Influenza B possède 2 modalités :[nan 'not_detected' 'detected']\n",
      "\n",
      "La colonne Parainfluenza 1 possède 2 modalités :[nan 'not_detected' 'detected']\n",
      "\n",
      "La colonne CoronavirusNL63 possède 2 modalités :[nan 'not_detected' 'detected']\n",
      "\n",
      "La colonne Rhinovirus/Enterovirus possède 2 modalités :[nan 'detected' 'not_detected']\n",
      "\n",
      "La colonne Coronavirus HKU1 possède 2 modalités :[nan 'not_detected' 'detected']\n",
      "\n",
      "La colonne Parainfluenza 3 possède 2 modalités :[nan 'not_detected' 'detected']\n",
      "\n",
      "La colonne Chlamydophila pneumoniae possède 2 modalités :[nan 'not_detected' 'detected']\n",
      "\n",
      "La colonne Adenovirus possède 2 modalités :[nan 'not_detected' 'detected']\n",
      "\n",
      "La colonne Parainfluenza 4 possède 2 modalités :[nan 'not_detected' 'detected']\n",
      "\n",
      "La colonne Coronavirus229E possède 2 modalités :[nan 'not_detected' 'detected']\n",
      "\n",
      "La colonne CoronavirusOC43 possède 2 modalités :[nan 'not_detected' 'detected']\n",
      "\n",
      "La colonne Inf A H1N1 2009 possède 2 modalités :[nan 'not_detected' 'detected']\n",
      "\n",
      "La colonne Bordetella pertussis possède 2 modalités :[nan 'not_detected' 'detected']\n",
      "\n",
      "La colonne Metapneumovirus possède 2 modalités :[nan 'not_detected' 'detected']\n",
      "\n",
      "La colonne Influenza B, rapid test possède 2 modalités :[nan 'negative' 'positive']\n",
      "\n",
      "La colonne Influenza A, rapid test possède 2 modalités :[nan 'negative' 'positive']\n",
      "\n",
      "La colonne Strepto A possède 3 modalités :[nan 'positive' 'negative' 'not_done']\n",
      "\n",
      "La colonne Urine - Esterase possède 2 modalités :[nan 'absent' 'not_done']\n",
      "\n",
      "La colonne Urine - Aspect possède 4 modalités :[nan 'clear' 'cloudy' 'altered_coloring' 'lightly_cloudy']\n",
      "\n",
      "La colonne Urine - pH possède 11 modalités :[nan '6.5' '6.0' 'Não Realizado' '5.0' '7.0' '5' '5.5' '7.5' '6' '8.0' '7']\n",
      "\n",
      "La colonne Urine - Hemoglobin possède 3 modalités :[nan 'absent' 'present' 'not_done']\n",
      "\n",
      "La colonne Urine - Bile pigments possède 2 modalités :[nan 'absent' 'not_done']\n",
      "\n",
      "La colonne Urine - Ketone Bodies possède 2 modalités :[nan 'absent' 'not_done']\n",
      "\n",
      "La colonne Urine - Urobilinogen possède 2 modalités :[nan 'normal' 'not_done']\n",
      "\n",
      "La colonne Urine - Protein possède 2 modalités :[nan 'absent' 'not_done']\n",
      "\n",
      "La colonne Urine - Leukocytes possède 31 modalités :[nan '38000' '5942000' '32000' '22000' '<1000' '3000' '16000' '7000'\n",
      " '5300' '1000' '4000' '5000' '10600' '6000' '2500' '2600' '23000' '124000'\n",
      " '8000']\n",
      "\n",
      "La colonne Urine - Crystals possède 5 modalités :[nan 'Ausentes' 'Urato Amorfo --+' 'Oxalato de Cálcio +++'\n",
      " 'Oxalato de Cálcio -++' 'Urato Amorfo +++']\n",
      "\n",
      "La colonne Urine - Color possède 4 modalités :[nan 'light_yellow' 'yellow' 'orange' 'citrus_yellow']\n",
      "\n",
      "int64\n",
      ":\n",
      "La colonne Patient age quantile possède 20 modalités :[13 17  8  5 15  9 16  1 14 11  0  3 10  6 12 19  7 18  2  4]\n",
      "\n",
      "La colonne Patient addmited to regular ward (1=yes, 0=no) possède 2 modalités :[0 1]\n",
      "\n",
      "La colonne Patient addmited to semi-intensive unit (1=yes, 0=no) possède 2 modalités :[0 1]\n",
      "\n",
      "La colonne Patient addmited to intensive care unit (1=yes, 0=no) possède 2 modalités :[0 1]\n",
      "\n",
      "float64\n",
      ":\n",
      "La colonne Hematocrit possède 176 modalités :[        nan  0.23651545 -1.57168222 -0.74769306  0.99183822  0.19073813\n",
      "  1.0147264   0.7400642  -0.6790275   0.80872977 -0.10681316  1.42672145\n",
      "  0.71717513  0.9460609   0.62562132 -0.15259048  0.67139781 -0.22125603\n",
      " -0.81635946 -0.65613931]\n",
      "\n",
      "La colonne Hemoglobin possède 84 modalités :[        nan -0.02234027 -0.774212   -0.58624387  0.79218763 -0.14765212\n",
      "  0.85484386 -0.71155578  0.04031596  1.04281187 -0.3356202   1.23077941\n",
      "  0.60421956  0.66687578  1.16812372  0.35359588 -0.46093205  0.54156393\n",
      "  0.29093966 -0.0849959 ]\n",
      "\n",
      "La colonne Platelets possède 249 modalités :[        nan -0.51741302  1.42966747 -0.42948034  0.07299204 -0.66815472\n",
      " -0.17824416  0.36191365  0.95231873 -0.27873862  0.60058802  0.39959908\n",
      " -0.20336777 -0.12799692  1.24124026 -1.05757082  0.1609247  -0.06518786\n",
      "  0.13580108  0.26141918]\n",
      "\n",
      "La colonne Mean platelet volume  possède 48 modalités :[        nan  0.01067657 -1.67222178 -0.21371072 -0.55028951  1.02041519\n",
      "  0.79602891 -0.88686943  0.5716427   1.5813812  -1.11125565  0.68383527\n",
      "  0.45944902 -1.56002915  0.23506281  0.90822148  1.35699499  1.13260877\n",
      " -0.43809694  0.34725538]\n",
      "\n",
      "La colonne Red blood Cells possède 211 modalités :[        nan  0.10200418 -0.85003501 -1.36131525  0.54276311 -0.12719065\n",
      "  0.48987165  0.43698105 -0.32112399  0.06674351  0.70143658 -0.60321027\n",
      "  1.26560748  0.40172038  0.29593834  1.17745626  0.19015631 -0.2506026\n",
      " -0.46216753 -0.02140861]\n",
      "\n",
      "La colonne Lymphocytes possède 318 modalités :[        nan  0.31836575 -0.00573804 -1.11451375  0.04543625  0.00279103\n",
      " -0.73070687 -0.22749306 -0.87570053  1.23950255 -0.26160937  0.32689482\n",
      "  0.50600463  0.01132011 -0.67100346 -1.59214032 -0.06544126 -1.2680366\n",
      " -0.32984167  0.96657312]\n",
      "\n",
      "La colonne Mean corpuscular hemoglobin concentration (MCHC) possède 57 modalités :[        nan -0.95079035  3.33107066  0.54288238 -0.45289949 -1.24952424\n",
      " -0.35331902  0.64246285 -0.25374237 -0.65205658  1.04077327 -0.85120994\n",
      " -0.55247611 -1.14994752  0.4433057  -0.05458523 -0.15416568  0.7420395\n",
      "  0.1445719   0.34372523]\n",
      "\n",
      "La colonne Leukocytes possède 475 modalités :[            nan -9.46103480e-02  3.64550471e-01 -8.84923160e-01\n",
      " -2.11487651e-01 -1.13259172e+00 -7.51307610e-02  1.05750747e-01\n",
      " -2.86623031e-01 -5.45422614e-01  4.61877000e-06  7.26313293e-01\n",
      " -2.22576950e-02 -1.78094044e-01 -8.34791960e-02  1.33578509e-01\n",
      "  5.56563020e-01  1.19660521e+00  1.22443306e+00  2.25410879e-01]\n",
      "\n",
      "La colonne Basophils possède 17 modalités :[        nan -0.22376651  0.08169255 -0.83468473  0.3871516   2.52536511\n",
      " -0.52922559  0.9980697   0.69261074  1.30352879 -1.14014375  1.91444683\n",
      "  1.60898769  3.13628316  4.66357851  2.21990609  3.44174218 11.07821941]\n",
      "\n",
      "La colonne Mean corpuscular hemoglobin (MCH) possède 91 modalités :[        nan -0.29226932  0.17817499  1.74632335  0.33498943 -0.08318307\n",
      "  0.54407668  0.59634751 -0.71044278  0.43953303 -0.18772669  0.2827186\n",
      " -0.13545488  0.23044679 -0.39681295  0.96224916  1.06679273  1.32815075\n",
      " -0.50135559  0.12590317]\n",
      "\n",
      "La colonne Eosinophils possède 86 modalités :[        nan  1.48215818  1.01862502 -0.66695017 -0.70908952  0.21797679\n",
      " -0.3719745  -0.54053205  0.13369802  0.04941923 -0.16127761 -0.62481076\n",
      " -0.79336834 -0.07699888  0.55509186  0.09155867  1.69285512  0.26011613\n",
      " -0.83550769 -0.203417  ]\n",
      "\n",
      "La colonne Mean corpuscular volume (MCV) possède 190 modalités :[        nan  0.1661924  -1.33602428  1.66840899  0.60684198  0.56678349\n",
      "  0.76707905  0.3865172  -0.67504984  0.24631093 -0.01407391  1.08755159\n",
      " -0.03410316  0.42657569  1.16767013 -0.6550191   0.68696052  0.18622164\n",
      "  1.34793651  1.3679657 ]\n",
      "\n",
      "La colonne Monocytes possède 146 modalités :[        nan  0.35754666  0.06865151  1.27675891 -0.22024387  2.01212883\n",
      "  0.12117788  0.80402118 -0.48287594 -0.50913912  0.5939157  -0.24650705\n",
      " -0.08892783 -0.61419201 -0.69298166  0.48886269  1.25049579  0.77775812\n",
      " -0.66671836 -0.01013816]\n",
      "\n",
      "La colonne Red blood cell distribution width (RDW) possède 61 modalités :[        nan -0.62507266 -0.97889912 -1.06735504  0.1710353   0.61331773\n",
      " -0.71352947 -0.89044231 -0.09433432  0.43640488  0.08257932 -0.0058775\n",
      " -0.35970309 -0.44815987  0.2594921   0.79023051 -0.18279028  1.67479527\n",
      "  0.34794807 -0.53661668]\n",
      "\n",
      "La colonne Serum Glucose possède 71 modalités :[        nan -0.14064808 -0.41320837 -0.83719093 -0.56463069 -0.17093256\n",
      "  0.85873955 -0.20121704 -0.47377729 -0.38292387 -0.32235494  0.04105876\n",
      " -0.50406176  0.34390348  1.13129985 -1.0491823  -0.62519962  0.61646378\n",
      " -0.65548414 -0.29207045]\n",
      "\n",
      "La colonne Neutrophils possède 308 modalités :[        nan -0.61908603 -0.12739536  0.88057011  0.26595679 -0.42240995\n",
      "  0.65111488  0.34790528  0.78223223 -1.01243889  0.47082794 -0.15198015\n",
      " -0.19295439 -0.09461617  0.38887948  0.83959591  1.92131591  0.47902328\n",
      "  1.31489718  0.30693102]\n",
      "\n",
      "La colonne Urea possède 54 modalités :[        nan  1.19805908 -0.06730879 -0.81164283 -1.33267665 -0.73720944\n",
      " -0.1417422  -0.4394758  -0.51390922  0.45372501  0.82589197 -0.36504239\n",
      " -1.0349431   0.15599142 -0.96050966 -0.290609    0.08155801 -0.2161756\n",
      " -0.88607627  0.75145858]\n",
      "\n",
      "La colonne Proteina C reativa mg/dL possède 265 modalités :[        nan -0.14789495 -0.28698576 -0.48767394 -0.4340246  -0.52940118\n",
      "  0.54557222 -0.36050516 -0.51946616 -0.4141545  -0.35454413 -0.46184277\n",
      "  0.01106599  0.61114359 -0.45190769  2.25638938 -0.49562198 -0.47575188\n",
      " -0.31679094 -0.52145314]\n",
      "\n",
      "La colonne Creatinine possède 119 modalités :[        nan  2.08992839 -1.83862317 -0.90817678 -0.70141089  0.33241844\n",
      "  1.02163768 -0.39126217 -0.56356692  2.12438917  1.29732561 -0.49464503\n",
      "  0.4702622   0.02226955 -0.52910596  0.19457446 -0.87371582  0.57364505\n",
      " -0.97709864 -0.63248903]\n",
      "\n",
      "La colonne Potassium possède 22 modalités :[        nan -0.30578715  0.93002027  0.4356966  -0.55294895 -0.80011016\n",
      "  0.18853533 -1.5415945  -0.0586259   2.4129889  -1.04727197  1.17718148\n",
      "  0.682859   -1.29443324  1.67150402 -2.28307939  1.42434275  2.16582751\n",
      "  1.91866636 -1.78875637]\n",
      "\n",
      "La colonne Sodium possède 19 modalités :[        nan  0.86251164  0.50313175 -0.21562791 -0.57500774 -1.65314722\n",
      "  0.14375193  1.58127129 -1.29376733 -0.93438756  1.22189152 -2.01252699\n",
      "  1.94065118  2.30003095 -4.52818632  3.01879048  4.09693003  3.73755026\n",
      " -2.371907   -5.24694586]\n",
      "\n",
      "La colonne Alanine transaminase possède 62 modalités :[        nan -0.58682126 -0.55925655 -0.47656256 -0.36630386 -0.28360984\n",
      " -0.44899788 -0.53169191  1.14975309  0.21255425  0.37794229 -0.11822182\n",
      "  0.29524827 -0.20091583 -0.14578649 -0.42143321 -0.09065714  0.10229556\n",
      "  0.01960154 -0.5041272 ]\n",
      "\n",
      "La colonne Aspartate transaminase possède 51 modalités :[        nan -0.16219996 -0.5492875  -0.47186997 -0.51057869 -0.20090871\n",
      " -0.27832621 -0.23961745 -0.35574371 -0.08478244 -0.39445245 -0.04607369\n",
      "  0.03134381 -0.00736494 -0.12349119 -0.70412248 -0.31703496 -0.43316123\n",
      "  0.18617882  0.14747007]\n",
      "\n",
      "La colonne Gamma-glutamyltransferase  possède 70 modalités :[        nan -0.2070706  -0.29691619 -0.3193776  -0.34183899 -0.28568548\n",
      "  0.01754338  0.42184854 -0.3643004  -0.2744548  -0.25199339 -0.44291529\n",
      "  0.17477317 -0.229532   -0.42045388 -0.02737942 -0.35306969 -0.46537668\n",
      " -0.33060828 -0.39799249]\n",
      "\n",
      "La colonne Total Bilirubin possède 19 modalités :[        nan  0.13118082  1.0494467  -0.17490779 -1.09317374  1.35553527\n",
      " -0.78708506 -0.48099637  0.74335808  0.43726954  2.57988954  2.88597822\n",
      "  1.66162384  5.02859878  1.96771252  3.19206715  3.80424452  4.72251034\n",
      "  2.27380133  3.49815583]\n",
      "\n",
      "La colonne Direct Bilirubin possède 10 modalités :[            nan  5.80053806e-01 -3.20472100e-03 -1.16972160e+00\n",
      " -5.86463153e-01  3.49634576e+00  1.16331220e+00  1.74657059e+00\n",
      "  6.99589634e+00  4.66286278e+00  5.82938003e+00]\n",
      "\n",
      "La colonne Indirect Bilirubin possède 10 modalités :[        nan -0.27865431  1.69086373 -0.77103382  0.70610464  0.21372519\n",
      "  1.19848406  3.66038156  6.61465836  2.67562246  4.15276098]\n",
      "\n",
      "La colonne Alkaline phosphatase possède 82 modalités :[        nan -0.79154176 -0.57837743 -0.50224733 -0.54792541 -0.63928151\n",
      " -0.30430901 -0.24340491 -0.33476105 -0.6240555  -0.28908297 -0.12159672\n",
      " -0.42611721 -0.82199383 -0.6088295  -0.31953502 -0.56315142  3.06064224\n",
      " -0.3652131  -0.53269935]\n",
      "\n",
      "La colonne Ionized calcium  possède 20 modalités :[        nan  0.7243526  -0.77087092 -0.93700665  0.55821687 -1.26927817\n",
      " -0.43859953  0.39208111 -0.10632607  0.22594538  0.05980966  1.22275984\n",
      "  0.89048833  1.38889551 -1.43541384 -1.76768529 -0.6047352   1.05662405\n",
      "  3.54866195 -2.09995675]\n",
      "\n",
      "La colonne Magnesium possède 9 modalités :[        nan  1.07515335 -0.01360926  0.53077167 -0.55799091  2.16391587\n",
      " -2.19113565  1.61953497 -1.10237253 -1.64675403]\n",
      "\n",
      "La colonne pCO2 (venous blood gas analysis) possède 97 modalités :[        nan  0.61559433 -0.283737   -0.18688582  1.54259741  0.64326614\n",
      "  0.50490749 -1.32142699 -1.03087401  0.75395298  1.32122326 -0.71264869\n",
      " -0.87867916 -0.94785851  0.33887699  0.15901084  0.04832402  0.18668269\n",
      "  0.91998345  0.47723568]\n",
      "\n",
      "La colonne Hb saturation (venous blood gas analysis) possède 120 modalités :[        nan -0.55473655  0.76867932 -1.26150715 -1.10023058 -1.52239549\n",
      " -1.69315898  0.29433671  1.41852844 -1.0195924  -0.52153271  0.94892925\n",
      "  1.09123206  1.27148235 -0.77767765  0.28484961 -0.86305928 -2.29557395\n",
      "  0.78290933  1.39006805]\n",
      "\n",
      "La colonne Base excess (venous blood gas analysis) possède 72 modalités :[        nan -0.28374788 -0.4657748  -0.1745317   1.3908999   1.13606214\n",
      " -0.35655865 -2.9049356   0.26233295  0.2987383   1.46371078 -0.32015324\n",
      " -0.82982868 -1.0118556   0.080306   -0.61139637  0.00749523  0.33514369\n",
      " -0.13812631  1.31808913]\n",
      "\n",
      "La colonne pO2 (venous blood gas analysis) possède 121 modalités :[        nan -0.56290156  0.11069825 -0.96032548 -0.87275744 -1.10851741\n",
      " -1.31733334 -0.01054966  1.37706578 -0.67741352 -0.6908856   0.61589807\n",
      "  0.75061804  1.24908173 -0.63699752 -0.09138168 -0.6639415  -1.6339252\n",
      "  0.66305011  1.72733772]\n",
      "\n",
      "La colonne Total CO2 (venous blood gas analysis) possède 78 modalités :[        nan  0.10408811 -0.26439676 -0.11086149  1.76226819  0.87176442\n",
      "  0.19620901 -2.59813285 -0.29510394  0.31903714  1.7929759  -0.60217446\n",
      " -1.06278026 -1.27772927 -0.17227584 -0.47934634  0.25762335  0.53398675\n",
      " -0.20298243  0.71822918]\n",
      "\n",
      "La colonne pH (venous blood gas analysis) possède 89 modalités :[        nan -0.85551316 -0.10135537  0.00338878 -0.28989482  0.21287708\n",
      " -0.75076902 -1.25354087  1.2812674  -0.52033198 -0.14325303  0.44331416\n",
      "  0.17097942  0.06623527 -0.66697377 -0.60412729 -0.20609949 -0.58317846\n",
      "  2.64294124 -0.45748547]\n",
      "\n",
      "La colonne HCO3 (venous blood gas analysis) possède 78 modalités :[        nan  0.03634486 -0.28671953 -0.12518734  1.74858594  0.90861845\n",
      "  0.13326395 -2.6450901  -0.22210704  0.32710269  1.78089249 -0.5774774\n",
      " -1.02976799 -1.25591278 -0.18980047  0.16557051 -0.48055834  0.23018363\n",
      "  0.52094144  0.06865142]\n",
      "\n",
      "La colonne Rods # possède 15 modalités :[        nan -0.62437278  0.00947504  0.32639894  1.91101849  1.30886304\n",
      "  1.59409463 -0.30744886  0.64332289  1.27717066  3.49563813  2.22794247\n",
      "  2.25963497  0.9602468   3.17871427  2.19624996]\n",
      "\n",
      "La colonne Segmented possède 55 modalités :[        nan  0.22897924 -0.40759072 -0.93806571 -2.26425314 -1.99901569\n",
      "  0.91859663  0.17593175  0.49421674  1.39602411  0.12288426 -1.04416072\n",
      "  0.28202674 -1.25635064 -0.24844822  1.07773912 -0.69935191  1.13078666\n",
      " -0.46063819 -1.36244571]\n",
      "\n",
      "La colonne Promyelocytes possède 2 modalités :[        nan -0.10206207  9.79795933]\n",
      "\n",
      "La colonne Metamyelocytes possède 4 modalités :[        nan -0.31596529  2.9102068   1.29712069  6.13637876]\n",
      "\n",
      "La colonne Myelocytes possède 4 modalités :[        nan -0.23312619  2.028198    4.28952217  6.55084658]\n",
      "\n",
      "La colonne Urine - Density possède 24 modalités :[        nan -1.61559629 -0.05473161  1.22233939  1.08044267  0.65475231\n",
      "  0.37095872  0.08716516  0.51285553 -1.33180273 -0.76421547  2.49941063\n",
      " -1.04800904 -0.19662839  2.21561694 -1.47369945  2.07371998  1.50613296\n",
      " -0.33852518  1.36423612]\n",
      "\n",
      "La colonne Urine - Red blood cells possède 32 modalités :[        nan -0.19601537  0.13693406 -0.12691267 -0.19392136 -0.20020342\n",
      " -0.1981094  -0.14157081  1.53888154 -0.20229743 -0.18135722 -0.0913143\n",
      " -0.15413494 -0.1792632  -0.16376744 -0.08503224 -0.17298114 -0.18554527\n",
      " -0.13738278 -0.15622896]\n",
      "\n",
      "La colonne Relationship (Patient/Normal) possède 35 modalités :[            nan -8.94807430e-02  9.93859000e-04  9.14684610e-02\n",
      " -4.51379180e-01 -3.60904574e-01  1.90096271e+00  1.81944147e-01\n",
      " -2.70429939e-01  9.96215582e-01  4.70567846e+00 -1.35612631e+00\n",
      " -5.41853786e-01  1.35811508e+00 -9.94227290e-01 -6.32328331e-01\n",
      " -1.79955348e-01 -1.17517650e+00  1.26764047e+00  1.08669019e+00]\n",
      "\n",
      "La colonne International normalized ratio (INR) possède 42 modalités :[        nan  0.29654643 -0.04297153 -0.55224913  0.2399601   0.12678745\n",
      " -0.77859449 -0.66542178 -0.09955786  0.52289242  1.59803331  0.97558302\n",
      " -0.26931685  1.03216934  0.86241037  1.71120596 -0.72200817  0.07020113\n",
      "  3.06927896 -0.60883546]\n",
      "\n",
      "La colonne Lactic Dehydrogenase possède 79 modalités :[        nan  0.90772313 -0.79200727 -1.26635063 -1.1477648  -0.66024524\n",
      "  0.578318   -0.23860672 -0.88424075 -0.43624976 -0.85788834 -0.93694556\n",
      " -0.37036878 -0.80518353 -0.44942597 -0.13319707 -0.62071663  0.11715081\n",
      " -0.98965037 -1.04235518]\n",
      "\n",
      "La colonne Vitamin B12 possède 3 modalités :[        nan  0.53081125  0.86979461 -1.40060592]\n",
      "\n",
      "La colonne Creatine phosphokinase (CPK)  possède 77 modalités :[        nan -0.26785612 -0.24091508 -0.39178491 -0.40256131  0.03927175\n",
      "  0.32484674 -0.20858583 -0.16548015  0.00155429  0.41105807  0.16320053\n",
      "  0.54037505 -0.00922212  0.03388354 -0.11159807 -0.51571369 -0.31634998\n",
      "  0.12548308 -0.47260803]\n",
      "\n",
      "La colonne Ferritin possède 23 modalités :[        nan -0.5080356  -0.25279141 -0.5636366   0.24794242 -0.49828106\n",
      " -0.56721324 -0.35846576 -0.37797487 -0.62752891 -0.55615812 -0.30156419\n",
      "  0.18128629 -0.54282683 -0.62704122 -0.07070639  0.05772858 -0.32757634\n",
      " -0.59468853 -0.61387253]\n",
      "\n",
      "La colonne Arterial Lactic Acid possède 13 modalités :[        nan  0.22995605 -0.430556    0.49416086 -0.82686323 -0.2984536\n",
      "  2.07938981 -0.95896566 -0.16635118  3.00410652  1.28677535 -0.56265843\n",
      " -0.6947608  -1.09106803]\n",
      "\n",
      "La colonne Lipase dosage possède 7 modalités :[        nan -1.19222677 -0.29455015 -0.35065493  1.72522223 -0.5189693\n",
      " -0.63117886  1.61301267]\n",
      "\n",
      "La colonne Albumin possède 10 modalités :[        nan  0.4618797   0.7120657  -2.29015589  1.96299112 -0.2886748\n",
      " -0.03848998  1.21243536 -0.53885967 -0.78904569  0.21169487]\n",
      "\n",
      "La colonne Hb saturation (arterial blood gases) possède 23 modalités :[        nan  0.73834962  0.26776886  1.16614795 -1.35786271  0.48166802\n",
      " -0.37392861  0.99502796 -1.40064192 -1.44342434 -1.18674278 -1.05840528\n",
      "  0.09665216 -1.99956024  0.86668712  0.69556719  0.61000884  1.29448545\n",
      " -1.27230442 -0.20280862]\n",
      "\n",
      "La colonne pCO2 (arterial blood gas analysis) possède 25 modalités :[        nan -0.04610435 -0.48870584 -0.37805539 -0.67312318 -0.14753374\n",
      " -0.34117216  0.30428851  0.93130738 -0.35961395 -0.07376688  0.29506776\n",
      " -0.5901354   3.1258738  -0.5809145   0.52558947 -1.2448169  -0.23052168\n",
      " -0.21207988 -0.13831301]\n",
      "\n",
      "La colonne Base excess (arterial blood gas analysis) possède 20 modalités :[        nan -0.0915792   0.82568991 -0.45051059 -0.37074807  0.06794587\n",
      "  1.70307755  0.62628359  0.66616487  0.50663984 -0.29098553 -3.08267427\n",
      "  0.54652107  1.22450256 -2.24516749  0.74592739 -0.13146047 -0.25110426\n",
      " -0.88920444 -1.3278985 ]\n",
      "\n",
      "La colonne pH (arterial blood gas analysis) possède 24 modalités :[        nan -0.09210583  0.82537556  0.10104814  1.04267383 -0.14039433\n",
      "  0.29420212  0.30627426 -0.68363988  0.57186097  0.19762515 -0.52670229\n",
      "  0.35456276 -3.56887746  0.84951979  0.45113972  0.0286154   0.34249061\n",
      "  0.65636581  0.3304185 ]\n",
      "\n",
      "La colonne Total CO2 (arterial blood gas analysis) possède 24 modalités :[            nan  7.74348230e-02  3.81541044e-01 -6.06805265e-01\n",
      "  1.91474468e-01 -4.16738689e-01 -3.78725231e-01  1.94008696e+00\n",
      "  1.36988735e+00  3.94213650e-02  1.15447558e-01 -9.86938357e-01\n",
      "  1.40790600e-03  1.21783423e+00 -2.92561770e+00  1.53461009e-01\n",
      "  4.95580703e-01 -8.72897983e-01  6.47634506e-01  7.23660707e-01]\n",
      "\n",
      "La colonne HCO3 (arterial blood gas analysis) possède 23 modalités :[        nan  0.05633191  0.46740276 -0.64248878  0.30297455 -0.43695337\n",
      " -0.35473892  2.0294714   1.37175894  0.09743915  0.42629552 -0.97134513\n",
      " -0.06698903  1.28954446 -2.98559213  0.22076008  0.54961723 -0.84802419\n",
      "  0.71404541  0.7962591 ]\n",
      "\n",
      "La colonne pO2 (arterial blood gas analysis) possède 27 modalités :[        nan -0.042277   -0.57575011  1.53852963 -1.15629446  0.24799524\n",
      " -0.52867878  0.21661465 -0.41884625 -1.05430687  0.67555833 -0.83464152\n",
      "  0.63633233 -0.71304107  0.95014012 -0.96016449 -0.148187    0.26368567\n",
      " -0.1168061   2.08769321]\n",
      "\n",
      "La colonne Arteiral Fio2 possède 9 modalités :[        nan  2.84185624 -0.01174366 -0.45075905 -1.40195894  0.64677942\n",
      " -1.53293192 -1.47512817  2.11016393 -0.59709746]\n",
      "\n",
      "La colonne Phosphor possède 16 modalités :[        nan  0.73039293 -0.45402798 -0.61195075  0.17766301  1.99377489\n",
      " -0.21714386 -0.76987338 -0.05922108 -1.4015646  -0.69091207  0.01974041\n",
      " -0.53298926 -1.48052585  2.86234999  0.25662434  0.33558601]\n",
      "\n",
      "La colonne ctO2 (arterial blood gas analysis) possède 19 modalités :[        nan  0.49098772 -0.22836645  0.69651735  0.79928261  0.90204793\n",
      " -2.90025377 -0.33113125 -0.8449558   0.28545809 -0.74219096 -1.15325069\n",
      " -0.12560114  0.1826928   1.62140203  0.07992848 -1.05048585 -0.63942617\n",
      " -1.97536969  1.82693171]\n",
      "\n"
     ]
    }
   ],
   "source": [
    "for column in df.columns:\n",
    "    if df[column].nunique() == 0 or df[column].nunique() == 1:\n",
    "        df.drop(columns=column,axis=1,inplace=True)\n",
    "        print('La colonne', column, 'a été supprimée.' + '\\n')\n",
    "    else:\n",
    "        variables_infos[str(df[column].dtype)].append(column)\n",
    "\n",
    "for elements in variables_infos:\n",
    "    print(elements + '\\n' + ':')\n",
    "    for variables in variables_infos[elements]:\n",
    "        print('La colonne ' + variables + ' possède ' + str(df[variables].nunique()) + ' modalités :' + str(df[variables].unique()[:20]) + '\\n')\n"
   ],
   "metadata": {
    "collapsed": false,
    "ExecuteTime": {
     "end_time": "2023-08-20T18:48:46.391362Z",
     "start_time": "2023-08-20T18:48:46.281653100Z"
    }
   }
  },
  {
   "cell_type": "code",
   "execution_count": 444,
   "outputs": [
    {
     "data": {
      "text/plain": "['Patient ID',\n 'SARS-Cov-2 exam result',\n 'Respiratory Syncytial Virus',\n 'Influenza A',\n 'Influenza B',\n 'Parainfluenza 1',\n 'CoronavirusNL63',\n 'Rhinovirus/Enterovirus',\n 'Coronavirus HKU1',\n 'Parainfluenza 3',\n 'Chlamydophila pneumoniae',\n 'Adenovirus',\n 'Parainfluenza 4',\n 'Coronavirus229E',\n 'CoronavirusOC43',\n 'Inf A H1N1 2009',\n 'Bordetella pertussis',\n 'Metapneumovirus',\n 'Influenza B, rapid test',\n 'Influenza A, rapid test',\n 'Strepto A',\n 'Urine - Esterase',\n 'Urine - Aspect',\n 'Urine - pH',\n 'Urine - Hemoglobin',\n 'Urine - Bile pigments',\n 'Urine - Ketone Bodies',\n 'Urine - Urobilinogen',\n 'Urine - Protein',\n 'Urine - Leukocytes',\n 'Urine - Crystals',\n 'Urine - Color']"
     },
     "execution_count": 444,
     "metadata": {},
     "output_type": "execute_result"
    }
   ],
   "source": [
    "variables_infos['object']"
   ],
   "metadata": {
    "collapsed": false,
    "ExecuteTime": {
     "end_time": "2023-08-20T18:48:46.419291600Z",
     "start_time": "2023-08-20T18:48:46.390363600Z"
    }
   }
  },
  {
   "cell_type": "code",
   "execution_count": 445,
   "outputs": [],
   "source": [
    "df.drop(columns='Patient ID',axis=1,inplace=True)\n",
    "variables_infos['object'].remove('SARS-Cov-2 exam result')"
   ],
   "metadata": {
    "collapsed": false,
    "ExecuteTime": {
     "end_time": "2023-08-20T18:48:46.429262900Z",
     "start_time": "2023-08-20T18:48:46.406320400Z"
    }
   }
  },
  {
   "cell_type": "code",
   "execution_count": 446,
   "outputs": [
    {
     "data": {
      "text/plain": "array([nan, '6.5', '6.0', 'Não Realizado', '5.0', '7.0', '5', '5.5',\n       '7.5', '6', '8.0', '7'], dtype=object)"
     },
     "execution_count": 446,
     "metadata": {},
     "output_type": "execute_result"
    }
   ],
   "source": [
    "df['Urine - pH'].unique()\n"
   ],
   "metadata": {
    "collapsed": false,
    "ExecuteTime": {
     "end_time": "2023-08-20T18:48:46.686570400Z",
     "start_time": "2023-08-20T18:48:46.671610500Z"
    }
   }
  },
  {
   "cell_type": "code",
   "execution_count": 447,
   "outputs": [
    {
     "data": {
      "text/plain": "array([nan, '38000', '5942000', '32000', '22000', '<1000', '3000',\n       '16000', '7000', '5300', '1000', '4000', '5000', '10600', '6000',\n       '2500', '2600', '23000', '124000', '8000', '29000', '2000',\n       '624000', '40000', '3310000', '229000', '19000', '28000', '10000',\n       '4600', '77000', '43000'], dtype=object)"
     },
     "execution_count": 447,
     "metadata": {},
     "output_type": "execute_result"
    }
   ],
   "source": [
    "df['Urine - Leukocytes'].unique()"
   ],
   "metadata": {
    "collapsed": false,
    "ExecuteTime": {
     "end_time": "2023-08-20T18:48:46.794285600Z",
     "start_time": "2023-08-20T18:48:46.761370Z"
    }
   }
  },
  {
   "cell_type": "code",
   "execution_count": 448,
   "outputs": [],
   "source": [
    "df['Urine - Leukocytes'] =  df['Urine - Leukocytes'].replace('<1000',float(500))\n",
    "df['Urine - pH'] = df['Urine - pH'].replace('Não Realizado', np.nan)"
   ],
   "metadata": {
    "collapsed": false,
    "ExecuteTime": {
     "end_time": "2023-08-20T18:48:47.026662100Z",
     "start_time": "2023-08-20T18:48:47.013694900Z"
    }
   }
  },
  {
   "cell_type": "code",
   "execution_count": 449,
   "outputs": [
    {
     "data": {
      "text/plain": "array([nan, '38000', '5942000', '32000', '22000', 500.0, '3000', '16000',\n       '7000', '5300', '1000', '4000', '5000', '10600', '6000', '2500',\n       '2600', '23000', '124000', '8000', '29000', '2000', '624000',\n       '40000', '3310000', '229000', '19000', '28000', '10000', '4600',\n       '77000', '43000'], dtype=object)"
     },
     "execution_count": 449,
     "metadata": {},
     "output_type": "execute_result"
    }
   ],
   "source": [
    "df['Urine - Leukocytes'].unique()"
   ],
   "metadata": {
    "collapsed": false,
    "ExecuteTime": {
     "end_time": "2023-08-20T18:48:47.171278600Z",
     "start_time": "2023-08-20T18:48:47.153321200Z"
    }
   }
  },
  {
   "cell_type": "code",
   "execution_count": 450,
   "outputs": [
    {
     "data": {
      "text/plain": "array([nan, '6.5', '6.0', '5.0', '7.0', '5', '5.5', '7.5', '6', '8.0',\n       '7'], dtype=object)"
     },
     "execution_count": 450,
     "metadata": {},
     "output_type": "execute_result"
    }
   ],
   "source": [
    "df['Urine - pH'].unique()"
   ],
   "metadata": {
    "collapsed": false,
    "ExecuteTime": {
     "end_time": "2023-08-20T18:48:47.420607100Z",
     "start_time": "2023-08-20T18:48:47.411631500Z"
    }
   }
  },
  {
   "cell_type": "code",
   "execution_count": 451,
   "outputs": [],
   "source": [
    "for column in df.columns:\n",
    "    try:\n",
    "        df[column] = df[column].astype(float)\n",
    "    except:\n",
    "        pass"
   ],
   "metadata": {
    "collapsed": false,
    "ExecuteTime": {
     "end_time": "2023-08-20T18:48:47.656979200Z",
     "start_time": "2023-08-20T18:48:47.626057Z"
    }
   }
  },
  {
   "cell_type": "code",
   "execution_count": 452,
   "outputs": [
    {
     "data": {
      "text/plain": "Patient age quantile                                     float64\nSARS-Cov-2 exam result                                    object\nPatient addmited to regular ward (1=yes, 0=no)           float64\nPatient addmited to semi-intensive unit (1=yes, 0=no)    float64\nPatient addmited to intensive care unit (1=yes, 0=no)    float64\n                                                          ...   \nHCO3 (arterial blood gas analysis)                       float64\npO2 (arterial blood gas analysis)                        float64\nArteiral Fio2                                            float64\nPhosphor                                                 float64\nctO2 (arterial blood gas analysis)                       float64\nLength: 98, dtype: object"
     },
     "execution_count": 452,
     "metadata": {},
     "output_type": "execute_result"
    }
   ],
   "source": [
    "df.dtypes"
   ],
   "metadata": {
    "collapsed": false,
    "ExecuteTime": {
     "end_time": "2023-08-20T18:48:47.956178900Z",
     "start_time": "2023-08-20T18:48:47.936229800Z"
    }
   }
  },
  {
   "cell_type": "code",
   "execution_count": 453,
   "outputs": [
    {
     "data": {
      "text/plain": "   Patient age quantile SARS-Cov-2 exam result  \\\n0                  13.0               negative   \n1                  17.0               negative   \n2                   8.0               negative   \n3                   5.0               negative   \n4                  15.0               negative   \n\n   Patient addmited to regular ward (1=yes, 0=no)  \\\n0                                             0.0   \n1                                             0.0   \n2                                             0.0   \n3                                             0.0   \n4                                             0.0   \n\n   Patient addmited to semi-intensive unit (1=yes, 0=no)  \\\n0                                                0.0       \n1                                                0.0       \n2                                                0.0       \n3                                                0.0       \n4                                                0.0       \n\n   Patient addmited to intensive care unit (1=yes, 0=no)  Hematocrit  \\\n0                                                0.0             NaN   \n1                                                0.0        0.236515   \n2                                                0.0             NaN   \n3                                                0.0             NaN   \n4                                                0.0             NaN   \n\n   Hemoglobin  Platelets  Mean platelet volume   Red blood Cells  ...  \\\n0         NaN        NaN                    NaN              NaN  ...   \n1    -0.02234  -0.517413               0.010677         0.102004  ...   \n2         NaN        NaN                    NaN              NaN  ...   \n3         NaN        NaN                    NaN              NaN  ...   \n4         NaN        NaN                    NaN              NaN  ...   \n\n   Hb saturation (arterial blood gases)  pCO2 (arterial blood gas analysis)  \\\n0                                   NaN                                 NaN   \n1                                   NaN                                 NaN   \n2                                   NaN                                 NaN   \n3                                   NaN                                 NaN   \n4                                   NaN                                 NaN   \n\n   Base excess (arterial blood gas analysis)  \\\n0                                        NaN   \n1                                        NaN   \n2                                        NaN   \n3                                        NaN   \n4                                        NaN   \n\n   pH (arterial blood gas analysis)  Total CO2 (arterial blood gas analysis)  \\\n0                               NaN                                      NaN   \n1                               NaN                                      NaN   \n2                               NaN                                      NaN   \n3                               NaN                                      NaN   \n4                               NaN                                      NaN   \n\n   HCO3 (arterial blood gas analysis)  pO2 (arterial blood gas analysis)  \\\n0                                 NaN                                NaN   \n1                                 NaN                                NaN   \n2                                 NaN                                NaN   \n3                                 NaN                                NaN   \n4                                 NaN                                NaN   \n\n   Arteiral Fio2  Phosphor  ctO2 (arterial blood gas analysis)  \n0            NaN       NaN                                 NaN  \n1            NaN       NaN                                 NaN  \n2            NaN       NaN                                 NaN  \n3            NaN       NaN                                 NaN  \n4            NaN       NaN                                 NaN  \n\n[5 rows x 98 columns]",
      "text/html": "<div>\n<style scoped>\n    .dataframe tbody tr th:only-of-type {\n        vertical-align: middle;\n    }\n\n    .dataframe tbody tr th {\n        vertical-align: top;\n    }\n\n    .dataframe thead th {\n        text-align: right;\n    }\n</style>\n<table border=\"1\" class=\"dataframe\">\n  <thead>\n    <tr style=\"text-align: right;\">\n      <th></th>\n      <th>Patient age quantile</th>\n      <th>SARS-Cov-2 exam result</th>\n      <th>Patient addmited to regular ward (1=yes, 0=no)</th>\n      <th>Patient addmited to semi-intensive unit (1=yes, 0=no)</th>\n      <th>Patient addmited to intensive care unit (1=yes, 0=no)</th>\n      <th>Hematocrit</th>\n      <th>Hemoglobin</th>\n      <th>Platelets</th>\n      <th>Mean platelet volume</th>\n      <th>Red blood Cells</th>\n      <th>...</th>\n      <th>Hb saturation (arterial blood gases)</th>\n      <th>pCO2 (arterial blood gas analysis)</th>\n      <th>Base excess (arterial blood gas analysis)</th>\n      <th>pH (arterial blood gas analysis)</th>\n      <th>Total CO2 (arterial blood gas analysis)</th>\n      <th>HCO3 (arterial blood gas analysis)</th>\n      <th>pO2 (arterial blood gas analysis)</th>\n      <th>Arteiral Fio2</th>\n      <th>Phosphor</th>\n      <th>ctO2 (arterial blood gas analysis)</th>\n    </tr>\n  </thead>\n  <tbody>\n    <tr>\n      <th>0</th>\n      <td>13.0</td>\n      <td>negative</td>\n      <td>0.0</td>\n      <td>0.0</td>\n      <td>0.0</td>\n      <td>NaN</td>\n      <td>NaN</td>\n      <td>NaN</td>\n      <td>NaN</td>\n      <td>NaN</td>\n      <td>...</td>\n      <td>NaN</td>\n      <td>NaN</td>\n      <td>NaN</td>\n      <td>NaN</td>\n      <td>NaN</td>\n      <td>NaN</td>\n      <td>NaN</td>\n      <td>NaN</td>\n      <td>NaN</td>\n      <td>NaN</td>\n    </tr>\n    <tr>\n      <th>1</th>\n      <td>17.0</td>\n      <td>negative</td>\n      <td>0.0</td>\n      <td>0.0</td>\n      <td>0.0</td>\n      <td>0.236515</td>\n      <td>-0.02234</td>\n      <td>-0.517413</td>\n      <td>0.010677</td>\n      <td>0.102004</td>\n      <td>...</td>\n      <td>NaN</td>\n      <td>NaN</td>\n      <td>NaN</td>\n      <td>NaN</td>\n      <td>NaN</td>\n      <td>NaN</td>\n      <td>NaN</td>\n      <td>NaN</td>\n      <td>NaN</td>\n      <td>NaN</td>\n    </tr>\n    <tr>\n      <th>2</th>\n      <td>8.0</td>\n      <td>negative</td>\n      <td>0.0</td>\n      <td>0.0</td>\n      <td>0.0</td>\n      <td>NaN</td>\n      <td>NaN</td>\n      <td>NaN</td>\n      <td>NaN</td>\n      <td>NaN</td>\n      <td>...</td>\n      <td>NaN</td>\n      <td>NaN</td>\n      <td>NaN</td>\n      <td>NaN</td>\n      <td>NaN</td>\n      <td>NaN</td>\n      <td>NaN</td>\n      <td>NaN</td>\n      <td>NaN</td>\n      <td>NaN</td>\n    </tr>\n    <tr>\n      <th>3</th>\n      <td>5.0</td>\n      <td>negative</td>\n      <td>0.0</td>\n      <td>0.0</td>\n      <td>0.0</td>\n      <td>NaN</td>\n      <td>NaN</td>\n      <td>NaN</td>\n      <td>NaN</td>\n      <td>NaN</td>\n      <td>...</td>\n      <td>NaN</td>\n      <td>NaN</td>\n      <td>NaN</td>\n      <td>NaN</td>\n      <td>NaN</td>\n      <td>NaN</td>\n      <td>NaN</td>\n      <td>NaN</td>\n      <td>NaN</td>\n      <td>NaN</td>\n    </tr>\n    <tr>\n      <th>4</th>\n      <td>15.0</td>\n      <td>negative</td>\n      <td>0.0</td>\n      <td>0.0</td>\n      <td>0.0</td>\n      <td>NaN</td>\n      <td>NaN</td>\n      <td>NaN</td>\n      <td>NaN</td>\n      <td>NaN</td>\n      <td>...</td>\n      <td>NaN</td>\n      <td>NaN</td>\n      <td>NaN</td>\n      <td>NaN</td>\n      <td>NaN</td>\n      <td>NaN</td>\n      <td>NaN</td>\n      <td>NaN</td>\n      <td>NaN</td>\n      <td>NaN</td>\n    </tr>\n  </tbody>\n</table>\n<p>5 rows × 98 columns</p>\n</div>"
     },
     "execution_count": 453,
     "metadata": {},
     "output_type": "execute_result"
    }
   ],
   "source": [
    "df.head()"
   ],
   "metadata": {
    "collapsed": false,
    "ExecuteTime": {
     "end_time": "2023-08-20T18:48:48.288293300Z",
     "start_time": "2023-08-20T18:48:48.255375Z"
    }
   }
  },
  {
   "cell_type": "markdown",
   "source": [
    "for elements in variables_infos:\n",
    "    for variables in variables_infos[elements]:\n",
    "        if elements == 'object':\n",
    "            df.fillna(df.groupby('SARS-Cov-2 exam result')[variables].transform(lambda x: x.mode()[0]))\n",
    "        if elements == 'int64':\n",
    "            df.fillna(df.groupby('SARS-Cov-2 exam result')[variables].transform('mean'))\n",
    "\n",
    "        else:\n",
    "            df.fillna(df.groupby('SARS-Cov-2 exam result')[variables].transform('mean'))"
   ],
   "metadata": {
    "collapsed": false
   }
  },
  {
   "cell_type": "code",
   "execution_count": 454,
   "outputs": [],
   "source": [
    "categorical_features = variables_infos['object']\n",
    "categorical_features.remove('Patient ID')"
   ],
   "metadata": {
    "collapsed": false,
    "ExecuteTime": {
     "end_time": "2023-08-20T18:48:48.924583700Z",
     "start_time": "2023-08-20T18:48:48.904637400Z"
    }
   }
  },
  {
   "cell_type": "code",
   "execution_count": 455,
   "outputs": [],
   "source": [
    "numerical_features = variables_infos['float64']"
   ],
   "metadata": {
    "collapsed": false,
    "ExecuteTime": {
     "end_time": "2023-08-20T18:48:49.217799400Z",
     "start_time": "2023-08-20T18:48:49.202839700Z"
    }
   }
  },
  {
   "cell_type": "code",
   "execution_count": 456,
   "outputs": [],
   "source": [
    "numeric_transformer = Pipeline(steps=[\n",
    "    ('imputer', SimpleImputer(strategy='median')),\n",
    "    ('scaler', StandardScaler())\n",
    "\n",
    "])"
   ],
   "metadata": {
    "collapsed": false,
    "ExecuteTime": {
     "end_time": "2023-08-20T18:48:49.436216600Z",
     "start_time": "2023-08-20T18:48:49.428239Z"
    }
   }
  },
  {
   "cell_type": "code",
   "execution_count": 457,
   "outputs": [],
   "source": [
    "categorical_transformer = Pipeline(steps=[\n",
    "\n",
    "    ('imputer', SimpleImputer(strategy='most_frequent')),\n",
    "    ('ohe', OneHotEncoder(handle_unknown='ignore'))\n",
    "\n",
    "])"
   ],
   "metadata": {
    "collapsed": false,
    "ExecuteTime": {
     "end_time": "2023-08-20T18:48:49.752371100Z",
     "start_time": "2023-08-20T18:48:49.741399400Z"
    }
   }
  },
  {
   "cell_type": "code",
   "execution_count": 458,
   "outputs": [],
   "source": [
    "preprocessor = ColumnTransformer(transformers=[\n",
    "\n",
    "    ('numeric', numeric_transformer, numerical_features),\n",
    "    ('cat', categorical_transformer, categorical_features)\n",
    "\n",
    "])"
   ],
   "metadata": {
    "collapsed": false,
    "ExecuteTime": {
     "end_time": "2023-08-20T18:48:49.929903100Z",
     "start_time": "2023-08-20T18:48:49.921916800Z"
    }
   }
  },
  {
   "cell_type": "code",
   "execution_count": 459,
   "outputs": [],
   "source": [
    "classifiers = [\n",
    "\n",
    "    ('Logistic Regression', LogisticRegression(max_iter=10000)),\n",
    "    ('Random Forest', RandomForestClassifier())\n",
    "\n",
    "]"
   ],
   "metadata": {
    "collapsed": false,
    "ExecuteTime": {
     "end_time": "2023-08-20T18:48:50.170256600Z",
     "start_time": "2023-08-20T18:48:50.162273800Z"
    }
   }
  },
  {
   "cell_type": "code",
   "execution_count": 460,
   "outputs": [],
   "source": [
    "params_grid = {\n",
    "    'Logistic Regression': {\n",
    "        'preprocessor__numeric__imputer__strategy': ['mean', 'median'],\n",
    "        'classifiers__C': [0.1, 1, 10],\n",
    "    },\n",
    "\n",
    "    'Random Forest': {\n",
    "        'preprocessor__numeric__imputer__strategy': ['mean', 'median'],\n",
    "        'classifiers__n_estimators': [50, 100, 200],\n",
    "        'classifiers__max_depth': [None, 10, 20]\n",
    "    }\n",
    "}"
   ],
   "metadata": {
    "collapsed": false,
    "ExecuteTime": {
     "end_time": "2023-08-20T18:48:50.388698800Z",
     "start_time": "2023-08-20T18:48:50.369719300Z"
    }
   }
  },
  {
   "cell_type": "code",
   "execution_count": 461,
   "outputs": [
    {
     "name": "stderr",
     "output_type": "stream",
     "text": [
      "100%|██████████| 2/2 [00:47<00:00, 23.63s/it]\n"
     ]
    }
   ],
   "source": [
    "X = df.drop(columns='SARS-Cov-2 exam result',axis=1)\n",
    "y = df['SARS-Cov-2 exam result']\n",
    "\n",
    "X_train, X_test, y_train, y_test = train_test_split(X,y, test_size=0.2)\n",
    "\n",
    "results = {}\n",
    "predictions = {}\n",
    "for classifier_name, classifier in tqdm(classifiers):\n",
    "\n",
    "    pipeline = Pipeline([\n",
    "        ('preprocessor', preprocessor),\n",
    "        ('classifiers', classifier)\n",
    "    ])\n",
    "\n",
    "    model = GridSearchCV(pipeline, params_grid[classifier_name])\n",
    "    model = model.fit(X_train,y_train)\n",
    "\n",
    "    y_preds = model.predict(X_test)\n",
    "    predictions[classifier_name] = y_preds\n",
    "\n",
    "    results[classifier_name] = {'Meilleurs paramètres' : model.best_params_,\n",
    "                                'Accuracy sur train' : model.best_score_,\n",
    "                                'Accuracy sur test' : accuracy_score(y_test,predictions[classifier_name]),\n",
    "                                'Meilleur modèle' : model.best_estimator_}\n",
    "\n",
    "\n"
   ],
   "metadata": {
    "collapsed": false,
    "ExecuteTime": {
     "end_time": "2023-08-20T18:49:37.842740900Z",
     "start_time": "2023-08-20T18:48:50.560214100Z"
    }
   }
  },
  {
   "cell_type": "code",
   "execution_count": 463,
   "outputs": [
    {
     "data": {
      "text/plain": "0.9069973427812223"
     },
     "execution_count": 463,
     "metadata": {},
     "output_type": "execute_result"
    }
   ],
   "source": [
    "results['Logistic Regression']['Accuracy sur test']"
   ],
   "metadata": {
    "collapsed": false,
    "ExecuteTime": {
     "end_time": "2023-08-20T18:50:11.766441800Z",
     "start_time": "2023-08-20T18:50:11.756465600Z"
    }
   }
  },
  {
   "cell_type": "code",
   "execution_count": 464,
   "outputs": [
    {
     "data": {
      "text/plain": "0.9025686448184234"
     },
     "execution_count": 464,
     "metadata": {},
     "output_type": "execute_result"
    }
   ],
   "source": [
    "results['Random Forest']['Accuracy sur test']"
   ],
   "metadata": {
    "collapsed": false,
    "ExecuteTime": {
     "end_time": "2023-08-20T18:50:18.978759200Z",
     "start_time": "2023-08-20T18:50:18.960805300Z"
    }
   }
  },
  {
   "cell_type": "code",
   "execution_count": 465,
   "outputs": [],
   "source": [
    "from sklearn.metrics import classification_report"
   ],
   "metadata": {
    "collapsed": false,
    "ExecuteTime": {
     "end_time": "2023-08-20T18:50:35.754153800Z",
     "start_time": "2023-08-20T18:50:35.735203400Z"
    }
   }
  },
  {
   "cell_type": "code",
   "execution_count": 467,
   "outputs": [
    {
     "name": "stdout",
     "output_type": "stream",
     "text": [
      "              precision    recall  f1-score   support\n",
      "\n",
      "    negative       0.91      1.00      0.95      1018\n",
      "    positive       0.71      0.09      0.16       111\n",
      "\n",
      "    accuracy                           0.91      1129\n",
      "   macro avg       0.81      0.54      0.56      1129\n",
      "weighted avg       0.89      0.91      0.87      1129\n",
      "\n"
     ]
    }
   ],
   "source": [
    "print(classification_report(y_test, predictions['Logistic Regression']))"
   ],
   "metadata": {
    "collapsed": false,
    "ExecuteTime": {
     "end_time": "2023-08-20T18:50:58.005015100Z",
     "start_time": "2023-08-20T18:50:57.978087300Z"
    }
   }
  },
  {
   "cell_type": "code",
   "execution_count": 468,
   "outputs": [
    {
     "name": "stdout",
     "output_type": "stream",
     "text": [
      "              precision    recall  f1-score   support\n",
      "\n",
      "    negative       0.90      1.00      0.95      1018\n",
      "    positive       1.00      0.01      0.02       111\n",
      "\n",
      "    accuracy                           0.90      1129\n",
      "   macro avg       0.95      0.50      0.48      1129\n",
      "weighted avg       0.91      0.90      0.86      1129\n",
      "\n"
     ]
    }
   ],
   "source": [
    "print(classification_report(y_test, predictions['Random Forest']))"
   ],
   "metadata": {
    "collapsed": false,
    "ExecuteTime": {
     "end_time": "2023-08-20T18:51:10.445359Z",
     "start_time": "2023-08-20T18:51:10.400475300Z"
    }
   }
  },
  {
   "cell_type": "code",
   "execution_count": null,
   "outputs": [],
   "source": [],
   "metadata": {
    "collapsed": false
   }
  }
 ],
 "metadata": {
  "kernelspec": {
   "display_name": "Python 3",
   "language": "python",
   "name": "python3"
  },
  "language_info": {
   "codemirror_mode": {
    "name": "ipython",
    "version": 2
   },
   "file_extension": ".py",
   "mimetype": "text/x-python",
   "name": "python",
   "nbconvert_exporter": "python",
   "pygments_lexer": "ipython2",
   "version": "2.7.6"
  }
 },
 "nbformat": 4,
 "nbformat_minor": 0
}
